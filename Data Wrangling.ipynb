{
 "cells": [
  {
   "cell_type": "code",
   "execution_count": 7,
   "id": "ef8aeb42",
   "metadata": {},
   "outputs": [],
   "source": [
    "import numpy as np # np mean, np random \n",
    "import pandas as pd # read csv, df manipulation\n",
    "import json"
   ]
  },
  {
   "cell_type": "code",
   "execution_count": 46,
   "id": "f35b8880",
   "metadata": {},
   "outputs": [],
   "source": [
    "data = pd.read_excel(\"/Users/qu4ntum/Documents/arXiv/Visualizations/arxiv_with_institute_and_country.xlsx\")"
   ]
  },
  {
   "cell_type": "code",
   "execution_count": 26,
   "id": "b80aca2f",
   "metadata": {},
   "outputs": [
    {
     "data": {
      "text/plain": [
       "str"
      ]
     },
     "execution_count": 26,
     "metadata": {},
     "output_type": "execute_result"
    }
   ],
   "source": [
    "type(data['authors_parsed'][1])"
   ]
  },
  {
   "cell_type": "code",
   "execution_count": 48,
   "id": "ab0110b2",
   "metadata": {},
   "outputs": [
    {
     "ename": "SyntaxError",
     "evalue": "invalid syntax (2834690761.py, line 3)",
     "output_type": "error",
     "traceback": [
      "\u001b[0;36m  File \u001b[0;32m\"/var/folders/mb/qlgchv953m58f9r2dkht4n6c0000gn/T/ipykernel_12826/2834690761.py\"\u001b[0;36m, line \u001b[0;32m3\u001b[0m\n\u001b[0;31m    res = [i.strip(& quot\u001b[0m\n\u001b[0m                   ^\u001b[0m\n\u001b[0;31mSyntaxError\u001b[0m\u001b[0;31m:\u001b[0m invalid syntax\n"
     ]
    }
   ],
   "source": [
    "data['authors_parsed'] = data.authors_parsed.apply(lambda x: x[1:-1].split(','))\n",
    "\n",
    "res = [i.strip(& quot\n",
    "                [] & quot\n",
    "                ).split(\"\n",
    "                       , & quot\n",
    "                       ) for i in data['authors_parsed']]\n",
    "    "
   ]
  },
  {
   "cell_type": "code",
   "execution_count": 33,
   "id": "f65c6f06",
   "metadata": {},
   "outputs": [
    {
     "data": {
      "text/plain": [
       "list"
      ]
     },
     "execution_count": 33,
     "metadata": {},
     "output_type": "execute_result"
    }
   ],
   "source": [
    "type(data['authors_parsed'][1])\n"
   ]
  },
  {
   "cell_type": "code",
   "execution_count": 35,
   "id": "db6f90eb",
   "metadata": {},
   "outputs": [
    {
     "data": {
      "text/plain": [
       "pandas.core.series.Series"
      ]
     },
     "execution_count": 35,
     "metadata": {},
     "output_type": "execute_result"
    }
   ],
   "source": [
    "type(data['authors_parsed'])"
   ]
  },
  {
   "cell_type": "code",
   "execution_count": 34,
   "id": "8925c658",
   "metadata": {},
   "outputs": [
    {
     "data": {
      "text/plain": [
       "[\"['Gai'\",\n",
       " \" 'Yi'\",\n",
       " \" '']\",\n",
       " \" ['Krishnamachari'\",\n",
       " \" 'Bhaskar'\",\n",
       " \" '']\",\n",
       " \" ['Jain'\",\n",
       " \" 'Rahul'\",\n",
       " \" '']\"]"
      ]
     },
     "execution_count": 34,
     "metadata": {},
     "output_type": "execute_result"
    }
   ],
   "source": [
    "data['authors_parsed'][0]"
   ]
  }
 ],
 "metadata": {
  "kernelspec": {
   "display_name": "Python 3 (ipykernel)",
   "language": "python",
   "name": "python3"
  },
  "language_info": {
   "codemirror_mode": {
    "name": "ipython",
    "version": 3
   },
   "file_extension": ".py",
   "mimetype": "text/x-python",
   "name": "python",
   "nbconvert_exporter": "python",
   "pygments_lexer": "ipython3",
   "version": "3.7.13"
  }
 },
 "nbformat": 4,
 "nbformat_minor": 5
}
